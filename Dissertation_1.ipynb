{
 "cells": [
  {
   "cell_type": "code",
   "execution_count": 1,
   "outputs": [],
   "source": [
    "#required libraries\n",
    "import pandas as pd\n",
    "import numpy as np\n",
    "from datetime import datetime\n",
    "\n",
    "#visualization library\n",
    "import matplotlib.pyplot as plt\n",
    "\n"
   ],
   "metadata": {
    "collapsed": false,
    "pycharm": {
     "name": "#%%\n",
     "is_executing": false
    }
   }
  },
  {
   "cell_type": "code",
   "execution_count": 2,
   "outputs": [
    {
     "name": "stdout",
     "text": [
      "Uploaded data has 156614 rows and 13 columns!\n"
     ],
     "output_type": "stream"
    },
    {
     "name": "stderr",
     "text": [
      "C:\\Users\\yong3\\Anaconda3\\envs\\Dissertation\\lib\\site-packages\\IPython\\core\\interactiveshell.py:3049: DtypeWarning: Columns (5) have mixed types. Specify dtype option on import or set low_memory=False.\n  interactivity=interactivity, compiler=compiler, result=result)\n"
     ],
     "output_type": "stream"
    }
   ],
   "source": [
    "#import csv file\n",
    "data=\"C:\\\\Users\\\\yong3\\\\Dropbox\\\\UCL\\\\Dissertation\\\\Dataset\\\\Day_O.csv\"\n",
    "df=pd.read_csv(data,sep=',',skiprows=2)\n",
    "df.head()\n",
    "print ('Uploaded data has', len(df),'rows and',len(df.columns),'columns!')"
   ],
   "metadata": {
    "collapsed": false,
    "pycharm": {
     "name": "#%%\n",
     "is_executing": false
    }
   }
  },
  {
   "cell_type": "code",
   "execution_count": 8,
   "outputs": [
    {
     "data": {
      "text/plain": "          Day   Device                    Search keyword Currency  Clicks  \\\n0  2017-06-23  Desktop         business gas and electric      GBP       0   \n1  2017-08-04  Desktop  best business electricity tariff      GBP       0   \n2  2018-04-20   Mobile  british gas business electricity      GBP       1   \n3  2017-03-19   Tablet            go compare electricity      GBP       0   \n4  2018-03-21  Desktop  +Commercial electricity Supplier      GBP       0   \n\n  Impressions     CTR  Avg. CPC  Cost  Avg. position  Conversions  \\\n0           2   0.00%      0.00  0.00           4.50          0.0   \n1           1   0.00%      0.00  0.00           6.00          0.0   \n2           2  50.00%      9.24  9.24           2.00          0.0   \n3           1   0.00%      0.00  0.00           6.00          0.0   \n4          35   0.00%      0.00  0.00           4.17          0.0   \n\n   Cost / conv. Conv. rate  \n0           0.0      0.00%  \n1           0.0      0.00%  \n2           0.0      0.00%  \n3           0.0      0.00%  \n4           0.0      0.00%  ",
      "text/html": "<div>\n<style scoped>\n    .dataframe tbody tr th:only-of-type {\n        vertical-align: middle;\n    }\n\n    .dataframe tbody tr th {\n        vertical-align: top;\n    }\n\n    .dataframe thead th {\n        text-align: right;\n    }\n</style>\n<table border=\"1\" class=\"dataframe\">\n  <thead>\n    <tr style=\"text-align: right;\">\n      <th></th>\n      <th>Day</th>\n      <th>Device</th>\n      <th>Search keyword</th>\n      <th>Currency</th>\n      <th>Clicks</th>\n      <th>Impressions</th>\n      <th>CTR</th>\n      <th>Avg. CPC</th>\n      <th>Cost</th>\n      <th>Avg. position</th>\n      <th>Conversions</th>\n      <th>Cost / conv.</th>\n      <th>Conv. rate</th>\n    </tr>\n  </thead>\n  <tbody>\n    <tr>\n      <th>0</th>\n      <td>2017-06-23</td>\n      <td>Desktop</td>\n      <td>business gas and electric</td>\n      <td>GBP</td>\n      <td>0</td>\n      <td>2</td>\n      <td>0.00%</td>\n      <td>0.00</td>\n      <td>0.00</td>\n      <td>4.50</td>\n      <td>0.0</td>\n      <td>0.0</td>\n      <td>0.00%</td>\n    </tr>\n    <tr>\n      <th>1</th>\n      <td>2017-08-04</td>\n      <td>Desktop</td>\n      <td>best business electricity tariff</td>\n      <td>GBP</td>\n      <td>0</td>\n      <td>1</td>\n      <td>0.00%</td>\n      <td>0.00</td>\n      <td>0.00</td>\n      <td>6.00</td>\n      <td>0.0</td>\n      <td>0.0</td>\n      <td>0.00%</td>\n    </tr>\n    <tr>\n      <th>2</th>\n      <td>2018-04-20</td>\n      <td>Mobile</td>\n      <td>british gas business electricity</td>\n      <td>GBP</td>\n      <td>1</td>\n      <td>2</td>\n      <td>50.00%</td>\n      <td>9.24</td>\n      <td>9.24</td>\n      <td>2.00</td>\n      <td>0.0</td>\n      <td>0.0</td>\n      <td>0.00%</td>\n    </tr>\n    <tr>\n      <th>3</th>\n      <td>2017-03-19</td>\n      <td>Tablet</td>\n      <td>go compare electricity</td>\n      <td>GBP</td>\n      <td>0</td>\n      <td>1</td>\n      <td>0.00%</td>\n      <td>0.00</td>\n      <td>0.00</td>\n      <td>6.00</td>\n      <td>0.0</td>\n      <td>0.0</td>\n      <td>0.00%</td>\n    </tr>\n    <tr>\n      <th>4</th>\n      <td>2018-03-21</td>\n      <td>Desktop</td>\n      <td>+Commercial electricity Supplier</td>\n      <td>GBP</td>\n      <td>0</td>\n      <td>35</td>\n      <td>0.00%</td>\n      <td>0.00</td>\n      <td>0.00</td>\n      <td>4.17</td>\n      <td>0.0</td>\n      <td>0.0</td>\n      <td>0.00%</td>\n    </tr>\n  </tbody>\n</table>\n</div>"
     },
     "metadata": {},
     "output_type": "execute_result",
     "execution_count": 8
    }
   ],
   "source": [
    "df.head(5)"
   ],
   "metadata": {
    "collapsed": false,
    "pycharm": {
     "name": "#%%\n",
     "is_executing": false
    }
   }
  },
  {
   "cell_type": "code",
   "execution_count": 9,
   "outputs": [],
   "source": [
    "#sort according to date time\n",
    "df['Day'] = pd.to_datetime((df['Day']))\n",
    "df=df.sort_values(by='Day')\n",
    "\n"
   ],
   "metadata": {
    "collapsed": false,
    "pycharm": {
     "name": "#%%\n",
     "is_executing": false
    }
   }
  },
  {
   "cell_type": "code",
   "execution_count": 12,
   "outputs": [],
   "source": [
    "# def percent2float(row):\n",
    "#     if row.endswith('%'):\n",
    "#         return float(row[:-1])/100\n",
    "# Convert all to numerical\n"
   ],
   "metadata": {
    "collapsed": false,
    "pycharm": {
     "name": "#%%\n",
     "is_executing": false
    }
   }
  },
  {
   "cell_type": "code",
   "execution_count": 14,
   "outputs": [],
   "source": [
    "df['CTR']=df['CTR'].apply(percent2float)\n",
    "df['Conv. rate']=df['Conv. rate'].apply(percent2float)"
   ],
   "metadata": {
    "collapsed": false,
    "pycharm": {
     "name": "#%%\n",
     "is_executing": false
    }
   }
  },
  {
   "cell_type": "code",
   "execution_count": 17,
   "outputs": [
    {
     "data": {
      "text/plain": "              Day   Device                    Search keyword Currency  Clicks  \\\n48068  2016-12-05   Mobile  compare electricity for business      GBP       0   \n149115 2016-12-05  Desktop  gas and electricity for business      GBP       0   \n61613  2016-12-05  Desktop      commercial electrical supply      GBP       0   \n\n       Impressions  CTR  Avg. CPC  Cost  Avg. position  Conversions  \\\n48068            0  0.0       0.0   0.0            0.0          0.0   \n149115           0  0.0       0.0   0.0            0.0          0.0   \n61613            1  0.0       0.0   0.0            5.0          0.0   \n\n        Cost / conv.  Conv. rate  \n48068            0.0         0.0  \n149115           0.0         0.0  \n61613            0.0         0.0  ",
      "text/html": "<div>\n<style scoped>\n    .dataframe tbody tr th:only-of-type {\n        vertical-align: middle;\n    }\n\n    .dataframe tbody tr th {\n        vertical-align: top;\n    }\n\n    .dataframe thead th {\n        text-align: right;\n    }\n</style>\n<table border=\"1\" class=\"dataframe\">\n  <thead>\n    <tr style=\"text-align: right;\">\n      <th></th>\n      <th>Day</th>\n      <th>Device</th>\n      <th>Search keyword</th>\n      <th>Currency</th>\n      <th>Clicks</th>\n      <th>Impressions</th>\n      <th>CTR</th>\n      <th>Avg. CPC</th>\n      <th>Cost</th>\n      <th>Avg. position</th>\n      <th>Conversions</th>\n      <th>Cost / conv.</th>\n      <th>Conv. rate</th>\n    </tr>\n  </thead>\n  <tbody>\n    <tr>\n      <th>48068</th>\n      <td>2016-12-05</td>\n      <td>Mobile</td>\n      <td>compare electricity for business</td>\n      <td>GBP</td>\n      <td>0</td>\n      <td>0</td>\n      <td>0.0</td>\n      <td>0.0</td>\n      <td>0.0</td>\n      <td>0.0</td>\n      <td>0.0</td>\n      <td>0.0</td>\n      <td>0.0</td>\n    </tr>\n    <tr>\n      <th>149115</th>\n      <td>2016-12-05</td>\n      <td>Desktop</td>\n      <td>gas and electricity for business</td>\n      <td>GBP</td>\n      <td>0</td>\n      <td>0</td>\n      <td>0.0</td>\n      <td>0.0</td>\n      <td>0.0</td>\n      <td>0.0</td>\n      <td>0.0</td>\n      <td>0.0</td>\n      <td>0.0</td>\n    </tr>\n    <tr>\n      <th>61613</th>\n      <td>2016-12-05</td>\n      <td>Desktop</td>\n      <td>commercial electrical supply</td>\n      <td>GBP</td>\n      <td>0</td>\n      <td>1</td>\n      <td>0.0</td>\n      <td>0.0</td>\n      <td>0.0</td>\n      <td>5.0</td>\n      <td>0.0</td>\n      <td>0.0</td>\n      <td>0.0</td>\n    </tr>\n  </tbody>\n</table>\n</div>"
     },
     "metadata": {},
     "output_type": "execute_result",
     "execution_count": 17
    }
   ],
   "source": [
    "df.head(3)"
   ],
   "metadata": {
    "collapsed": false,
    "pycharm": {
     "name": "#%%\n",
     "is_executing": false
    }
   }
  },
  {
   "cell_type": "code",
   "execution_count": 19,
   "outputs": [
    {
     "data": {
      "text/plain": "0.1967201116999352"
     },
     "metadata": {},
     "output_type": "execute_result",
     "execution_count": 19
    }
   ],
   "source": [
    "df['CTR'].corr(df['Conv. rate'])\n",
    "\n"
   ],
   "metadata": {
    "collapsed": false,
    "pycharm": {
     "name": "#%%\n",
     "is_executing": false
    }
   }
  }
 ],
 "metadata": {
  "language_info": {
   "codemirror_mode": {
    "name": "ipython",
    "version": 2
   },
   "file_extension": ".py",
   "mimetype": "text/x-python",
   "name": "python",
   "nbconvert_exporter": "python",
   "pygments_lexer": "ipython2",
   "version": "2.7.6"
  },
  "kernelspec": {
   "name": "python3",
   "language": "python",
   "display_name": "Python 3"
  },
  "pycharm": {
   "stem_cell": {
    "cell_type": "raw",
    "source": [],
    "metadata": {
     "collapsed": false
    }
   }
  }
 },
 "nbformat": 4,
 "nbformat_minor": 0
}